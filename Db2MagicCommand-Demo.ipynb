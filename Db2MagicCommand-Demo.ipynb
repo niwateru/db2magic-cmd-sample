{
 "cells": [
  {
   "cell_type": "markdown",
   "metadata": {
    "collapsed": true
   },
   "source": [
    "↑プロジェクトトークンを挿入したら、実行を忘れずに!\n",
    "\n",
    "\n",
    "# Db2 Magic Command Demo\n",
    "# - Db2 %sql magic コマンド -\n",
    "\n",
    "https://github.com/IBM/db2-jupyter\n",
    "\n"
   ]
  },
  {
   "cell_type": "markdown",
   "metadata": {},
   "source": [
    "**実行は　セルを選択して**\n",
    "\n",
    "- **Windows： Ctrl+Enter**\n",
    "- **Mac: ⌘ (command) + Enter 　または Ctrl + Enter**\n",
    "\n"
   ]
  },
  {
   "cell_type": "markdown",
   "metadata": {},
   "source": [
    "このnotebookはIBMCloud上のWatson Studioのnotebookで動くように書かれていますが、他の環境でも動作すると思いますが、一部Watson Studio特有のCodeがあります。<br>\n",
    "**`IBM Cloud Watson Studioのみ`** と書いてある場合はWatson Studio特有のCodeです。<br>\n",
    "逆に他の環境だと必須のCodeはコメントアウトして **`IBM Cloud Watson Studio以外`** と書いてありますので、他の環境はコメントアウト部分を必要に応じて実行してください。\n",
    "\n",
    "\n",
    "### **`IBM Cloud Watson Studioのみ`**\n",
    "Watson Studio上のnotebookからIBM Cloud Object Storage(ICOS)へのFileの読み書き - project-libを使う -の手順が前準備として必要です。\n",
    "\n",
    "まずは1,2を実施お願いします。\n",
    "\n",
    "- 1.[ Projectを開く](https://qiita.com/nishikyon/items/1bed62a2a98b0c970f40#1-project%E3%82%92%E9%96%8B%E3%81%8F)\n",
    "- 2.[ 前準備アクセス・トークンの作成](https://qiita.com/nishikyon/items/1bed62a2a98b0c970f40#2-%E5%89%8D%E6%BA%96%E5%82%99%E3%82%A2%E3%82%AF%E3%82%BB%E3%82%B9%E3%83%88%E3%83%BC%E3%82%AF%E3%83%B3%E3%81%AE%E4%BD%9C%E6%88%90)\n",
    "\n",
    "その後、このnotebookに\n",
    "\n",
    "- [5: プロジェクト・トークンの挿入](https://qiita.com/nishikyon/items/1bed62a2a98b0c970f40#5-%E3%83%97%E3%83%AD%E3%82%B8%E3%82%A7%E3%82%AF%E3%83%88%E3%83%88%E3%83%BC%E3%82%AF%E3%83%B3%E3%81%AE%E6%8C%BF%E5%85%A5)を実施してください。\n",
    "\n",
    "\n",
    "一番上に挿入されたセルの実行は忘れずにお願いします。"
   ]
  },
  {
   "cell_type": "markdown",
   "metadata": {},
   "source": [
    "## 1. 事前準備 \n",
    "### 1.1. 最新の`ibm-db`パッケージをインストールします。\n",
    "Watson Studioのnotebookには`ibm-db`パッケージはインストール済みですが、2022年1月16日現在パッケージが若干古いので最新の`ibm-db`パッケージに更新します。\n",
    "\n",
    "またWatson Studioのnotebookでなくとも、Jupyter Notebook環境があれば、`ibm-db`パッケージをインストールすることでDb2のサポートを追加することができます。このパッケージはPythonに適切なデータベースコマンドを追加し、Db2データにアクセスできるようにします。<br>\n",
    "\n",
    "以下を実行します。"
   ]
  },
  {
   "cell_type": "code",
   "execution_count": null,
   "metadata": {},
   "outputs": [],
   "source": [
    "!pip install -U ibm_db"
   ]
  },
  {
   "cell_type": "markdown",
   "metadata": {},
   "source": [
    "### 1.2. まずは**Db2 %sql magic コマンド**のモジュールをダウンロードします。"
   ]
  },
  {
   "cell_type": "code",
   "execution_count": null,
   "metadata": {},
   "outputs": [],
   "source": [
    "!wget https://raw.githubusercontent.com/kyokonishito/db2-jupyter/fix_createDF_varchar_length/db2.ipynb"
   ]
  },
  {
   "cell_type": "markdown",
   "metadata": {},
   "source": [
    "### 1.2. ダウンロードした`db2.ipynb`を実行します。\n",
    "\n",
    "このコマンドで**%sql**コマンドが使えるようになります！"
   ]
  },
  {
   "cell_type": "code",
   "execution_count": null,
   "metadata": {},
   "outputs": [],
   "source": [
    "%run db2.ipynb"
   ]
  },
  {
   "cell_type": "markdown",
   "metadata": {},
   "source": [
    "`IBM Cloud Watson Studioのみ`:警告メッセージはそのままで問題ありません。\n",
    "\n",
    "qgridは試したところ、導入しても動きませんでした。\n",
    "```\n",
    "Warning: QGRID is unavailable for displaying results in scrollable windows.\n",
    "         Install QGRID if you want to enable scrolling of result sets.\n",
    "Warning: PANDAS level does not support Db2 typing which will can increase memory usage.\n",
    "         Install PANDAS version 1.3+ for more efficient dataframe creation.\n",
    "```"
   ]
  },
  {
   "cell_type": "markdown",
   "metadata": {},
   "source": [
    "## 2. Db2 on cloudの情報をセット\n",
    "### 2.1. Db2 on Cloudのサービス資格情報をコピペし、実行します。\n",
    "\n",
    "Db2 on CloudではないDb2を使う場合は、ここは実行せず、接続情報は2.2で手打ちしてください。\n",
    "\n",
    "**方法:**\n",
    "[IBM Cloudコンソールから資格情報を作成・参照(Liteプランの場合はこれのみ)](https://qiita.com/nishikyon/items/69fee851849e7ef7e163#ibm-cloud%E3%82%B3%E3%83%B3%E3%82%BD%E3%83%BC%E3%83%AB%E3%81%8B%E3%82%89%E8%B3%87%E6%A0%BC%E6%83%85%E5%A0%B1%E3%82%92%E4%BD%9C%E6%88%90%E5%8F%82%E7%85%A7lite%E3%83%97%E3%83%A9%E3%83%B3%E3%81%AE%E5%A0%B4%E5%90%88%E3%81%AF%E3%81%93%E3%82%8C%E3%81%AE%E3%81%BF) の<br>\n",
    "1, 2, 3, 5で内容を表示し、表示された内容を`service_credencials = \\`の行の下にコピペしてください。\n",
    "\n",
    "例:\n",
    "```py\n",
    "# @hidden_cell\n",
    "#service_credencials = \n",
    "# <ここにコピペ>\n",
    "service_credencials = \\\n",
    "{\n",
    "  \"connection\": {\n",
    "    \"cli\": {\n",
    "      \"arguments\": [\n",
    "      ・・・・\n",
    "```\n",
    "\n"
   ]
  },
  {
   "cell_type": "code",
   "execution_count": null,
   "metadata": {},
   "outputs": [],
   "source": [
    "# @hidden_cell\n",
    "#service_credencials = \n",
    "# <ここにコピペ>\n",
    "service_credencials = \\\n"
   ]
  },
  {
   "cell_type": "markdown",
   "metadata": {},
   "source": [
    "### 2.2 必要なパラメータをセット\n",
    "Db2 on Cloudのサービス資格情報から取らずに、直接値を入れてもOKです。\n",
    "\n",
    "Db2 on Cloudの以外のDb2を使う場合は、直接入れてください。\n",
    "\n",
    "- databese: データベース名\n",
    "- user: ユーザー名\n",
    "- password: パスワード\n",
    "- host: ホスト名　または　IPアドレス\n",
    "- port: ポート番号"
   ]
  },
  {
   "cell_type": "code",
   "execution_count": null,
   "metadata": {},
   "outputs": [],
   "source": [
    "databese = service_credencials[\"connection\"][\"db2\"][\"database\"]\n",
    "user = service_credencials[\"connection\"][\"db2\"][\"authentication\"][\"username\"]\n",
    "password = service_credencials[\"connection\"][\"db2\"][\"authentication\"][\"password\"]\n",
    "host =  service_credencials[\"connection\"][\"db2\"][\"hosts\"][0][\"hostname\"]\n",
    "port =  service_credencials[\"connection\"][\"db2\"][\"hosts\"][0][\"port\"]"
   ]
  },
  {
   "cell_type": "markdown",
   "metadata": {},
   "source": [
    "# 3. Db2 %sql Magic コマンドを使ってみる\n",
    "\n",
    "以下が終わっていることが前提です。\n",
    "\n",
    "- 1.事前準備\n",
    "- 2.Db2 on cloudの情報をセット"
   ]
  },
  {
   "cell_type": "markdown",
   "metadata": {},
   "source": [
    "## Magic コマンド\n",
    "Jupyterには、Pythonコードや特別なアクションを代行して実行できる一連のMagicコマンドが用意されています。\n",
    "例えば、%systemはシステムコマンドを発行します。\n",
    "\n",
    "\n",
    "`%run db2.ipynb`コマンドは、**db2.ipynb**ファイルの内容を読み込み、新しい **%sql**と **%%sql**コマンドを作成します。\n",
    "\n",
    "```\n",
    "%run db2.ipynb\n",
    "```\n",
    "\n",
    "\n",
    "### 基本\n",
    "\n",
    "\n",
    "`%sql` コマンドは一行コマンドに使用され、`%%sql` は SQL のブロック(複数のSQL)を実行します。\n",
    "\n",
    "`%sql` コマンドの結果のみ変数に代入できます。\n",
    "\n",
    "pythonの変数を`%sql`コマンドに渡すには，{}の中括弧で変数名を挟みます。\n",
    "\n",
    "単一の %sql コマンドは、行末にバックスラッシュ`\\`を使用して複数行に記載できます。\n",
    "\n",
    "`%%sql` ブロック内の複数のステートメントでは、セミコロン`;`をデリミタとして使用します。"
   ]
  },
  {
   "cell_type": "markdown",
   "metadata": {},
   "source": [
    "## 3.1 Db2 に接続\n",
    "- SSL接続の場合は最後にSSL TRUEをつけます\n",
    " - Db2 on CloudはSSL接続必須なのでつけます\n",
    " \n",
    " ```\n",
    " %sql CONNECT TO <データベース名> USER <ユーザー名> USING <パスワード> HOST <ホスト名>　または　IPアドレス> port <ポート番号> SSL TRUE\n",
    " ```\n",
    " \n",
    " 例: SSL接続\n",
    " ```\n",
    "  %sql CONNECT TO bludb USER nishito USING P@ssw0rd HOST ibm.aaa.ccc.com port 50001 SSL TRUE\n",
    " ```\n",
    " 例: SSL接続なし\n",
    " ```\n",
    "  %sql CONNECT TO bludb USER nishito USING P@ssw0rd HOST ibm.aaa.ccc.com port 50000\n",
    " ```\n",
    " \n",
    " **以下の接続文は後述する文字列置換で2.2でセットしたパラメータを使っています。** <br>\n",
    " 文字列置換については後ほど[6.文字列置換](#6.-文字列置換)で説明します。"
   ]
  },
  {
   "cell_type": "code",
   "execution_count": null,
   "metadata": {},
   "outputs": [],
   "source": [
    "#2.2でセットした情報を使用 SSL不要の場合はSSL TRUEを削除\n",
    "%sql CONNECT TO {databese} USER {user} USING {password} HOST {host} port {port} SSL TRUE"
   ]
  },
  {
   "cell_type": "markdown",
   "metadata": {},
   "source": [
    "## 3.2 定義済みマクロ\n",
    "### 1. table一覧取得\n",
    "**LIST TABLES [FOR ALL | FOR SCHEMA name]** <br>\n",
    "- 現在のスキーマまたはデータベースのテーブルを一覧表示\n",
    "- 何もつけないとデフォルトスキーマが指定され、接続したユーザー名のスキーマのテーブルを一覧表示になります。"
   ]
  },
  {
   "cell_type": "code",
   "execution_count": null,
   "metadata": {},
   "outputs": [],
   "source": [
    "%sql list tables"
   ]
  },
  {
   "cell_type": "markdown",
   "metadata": {},
   "source": [
    "### 2. sample db作成 \n",
    "**sampledata**<br>\n",
    "Sample tables [EMPLOYEE, DEPARTMENT]を作成します。\n",
    "\n",
    "スキーマ名はユーザーIDになります。"
   ]
  },
  {
   "cell_type": "code",
   "execution_count": null,
   "metadata": {},
   "outputs": [],
   "source": [
    "%sql sampledata"
   ]
  },
  {
   "cell_type": "markdown",
   "metadata": {},
   "source": [
    "もう一度データベースのテーブルを一覧表示してみます。"
   ]
  },
  {
   "cell_type": "code",
   "execution_count": null,
   "metadata": {},
   "outputs": [],
   "source": [
    "%sql list tables"
   ]
  },
  {
   "cell_type": "markdown",
   "metadata": {},
   "source": [
    "### 3. table情報取得\n",
    "**DESCRIBE [TABLE]**<br>\n",
    "テーブルの情報を表示する"
   ]
  },
  {
   "cell_type": "code",
   "execution_count": null,
   "metadata": {
    "scrolled": true
   },
   "outputs": [],
   "source": [
    "%sql DESCRIBE TABLE EMPLOYEE\n",
    "%sql DESCRIBE TABLE DEPARTMENT"
   ]
  },
  {
   "cell_type": "markdown",
   "metadata": {},
   "source": [
    "## 3.3 SQLを実行してみよう!"
   ]
  },
  {
   "cell_type": "markdown",
   "metadata": {},
   "source": [
    "### 1. オプションなして、実行してみます："
   ]
  },
  {
   "cell_type": "code",
   "execution_count": null,
   "metadata": {},
   "outputs": [],
   "source": [
    "%sql select * FROM EMPLOYEE"
   ]
  },
  {
   "cell_type": "markdown",
   "metadata": {},
   "source": [
    "### 2. 出力フォーマット\n",
    "デフォルトではPandas Dataframe形式で出力されます!\n",
    "\n",
    "出力の最初の5行と最後の5行を表示します。<br>\n",
    "もっと見たい場合は、特別なフラグ(**-all**)を使用するか、いくつかの設定を変更します。<br>\n",
    "(他に-gridフォーマットのオプションがありますが、Watson Studioのnotebookではエラーが出るのでここでは使用しません)\n",
    "\n",
    "\n",
    "\n",
    "- **-all. -a** : 全部レコード表示\n",
    "(ただし現状MAX 100行)"
   ]
  },
  {
   "cell_type": "code",
   "execution_count": null,
   "metadata": {},
   "outputs": [],
   "source": [
    "%sql -all select * FROM EMPLOYEE"
   ]
  },
  {
   "cell_type": "markdown",
   "metadata": {},
   "source": [
    "または表示する最大行数を変更できます。(ソースを読むと最大100でした)\n",
    "\n",
    "\n",
    "```\n",
    "%sql option MAXROWS 30\n",
    "```\n",
    "\n",
    "現在の値は`%sql option list `の出力の**MAXROWS**の値を参照してください。\n",
    "\n"
   ]
  },
  {
   "cell_type": "code",
   "execution_count": null,
   "metadata": {},
   "outputs": [],
   "source": [
    "#現在の値\n",
    "%sql option list"
   ]
  },
  {
   "cell_type": "code",
   "execution_count": null,
   "metadata": {},
   "outputs": [],
   "source": [
    "#値を変更\n",
    "%sql option MAXROWS 30"
   ]
  },
  {
   "cell_type": "code",
   "execution_count": null,
   "metadata": {},
   "outputs": [],
   "source": [
    "%sql select * FROM EMPLOYEE"
   ]
  },
  {
   "cell_type": "markdown",
   "metadata": {},
   "source": [
    "出力行数がMAXROWSより大きいと効かないようで、、、なんかいまいちな、、、。<br>\n",
    "(pandas的にはMAXROS(pandas.options.display.max_rows)が出力より多い場合はpandas.options.display.min_rowsの値が使われるそうで、、、）<br>\n",
    "\n",
    "\n",
    "\n",
    "結局MAX100行なら、**-all** を使うのがよいでしょう。<br>\n",
    "100行超えた場合は、前後10行となります(いまいち)。\n",
    "\n",
    "結局、細かに値を見たい場合は 結果をpandasのDataframeに入れてしまい、そこで操作するのが簡単です。<br>\n",
    "python pandasの知識がちょっと必要になってきてしまいます。ちょっとなので覚えてしまえば簡単です。\n",
    "\n",
    "\n",
    "参考:\n",
    "- Dataframeについては　https://github.com/kyokonishito/thinkjapan2018/blob/master/jupyter_files/02_Dataframe_Sample.ipynb\n",
    "\n",
    "- Dataframeの操作例は　https://github.com/kyokonishito/thinkjapan2018/blob/master/jupyter_files/DEMO_01_SELECT_DF.ipynb　を参考にしてみてください\n",
    "   - (2018年Think Japanでの講演の一部です)。"
   ]
  },
  {
   "cell_type": "markdown",
   "metadata": {},
   "source": [
    "### 3. SELECTの結果を変数に代入\n",
    "結果セットをPythonの変数に割り当てることができます。"
   ]
  },
  {
   "cell_type": "code",
   "execution_count": null,
   "metadata": {},
   "outputs": [],
   "source": [
    "df_employee = %sql select * FROM EMPLOYEE"
   ]
  },
  {
   "cell_type": "markdown",
   "metadata": {},
   "source": [
    "変数に格納された後は、Pandasの構文を使って表示したり、スライスしたりすることができます。"
   ]
  },
  {
   "cell_type": "code",
   "execution_count": null,
   "metadata": {},
   "outputs": [],
   "source": [
    "#単に表示 (前後5行)\n",
    "df_employee"
   ]
  },
  {
   "cell_type": "code",
   "execution_count": null,
   "metadata": {},
   "outputs": [],
   "source": [
    "# 0行目のFIRSTNMEを表示 (行数は0から開始)\n",
    "df_employee['FIRSTNME'][0]"
   ]
  },
  {
   "cell_type": "code",
   "execution_count": null,
   "metadata": {},
   "outputs": [],
   "source": [
    "#  index 10行目を表示 (0から始まるので実質11行目)\n",
    "df_employee.iloc[[10]]"
   ]
  },
  {
   "cell_type": "code",
   "execution_count": null,
   "metadata": {},
   "outputs": [],
   "source": [
    "# WORKDEPTがC01の行を表示 (これはSQLでもいいかも、、、)\n",
    "df_employee.loc[(df_employee['WORKDEPT']=='C01')]"
   ]
  },
  {
   "cell_type": "code",
   "execution_count": null,
   "metadata": {},
   "outputs": [],
   "source": [
    "#　最初10行\n",
    "df_employee.head(10)"
   ]
  },
  {
   "cell_type": "code",
   "execution_count": null,
   "metadata": {},
   "outputs": [],
   "source": [
    "#　最後10行\n",
    "df_employee.tail(10)"
   ]
  },
  {
   "cell_type": "markdown",
   "metadata": {},
   "source": [
    "### 4. SQL文とSQLブロック\n",
    "複数のSQLを実行したい場合は場合は　`%%sql`を使います。　Cell内のすべてがDb2 SQLと設定されます(＃のコメントは使用できません)。 <br>\n",
    "デフォルトではSQL文の区切りにセミコロン(;)が使われています。 <br>\n",
    "デフォルトはAuto Commitです。変更したい場合は最後に紹介する参考資料を参照してください。"
   ]
  },
  {
   "cell_type": "code",
   "execution_count": null,
   "metadata": {},
   "outputs": [],
   "source": [
    "%%sql\n",
    "DROP TABLE IBM_DATABASE_DOJO;\n",
    "CREATE TABLE IBM_DATABASE_DOJO (\n",
    "    START TIMESTAMP,\n",
    "    END TIMESTAMP,\n",
    "    ROOM VARCHAR(8),\n",
    "    TITLE VARCHAR(128),\n",
    "    SPEAKER VARCHAR(128)\n",
    ");\n",
    "INSERT INTO IBM_DATABASE_DOJO VALUES\n",
    " ('2022-05-23-16.00.00.000000', '2022-05-23-17.00.00.000000', 'B', '無償のDb2 on CloudをJupyter Notebookから使ってみよう', 'Teruaki Niwa');"
   ]
  },
  {
   "cell_type": "code",
   "execution_count": null,
   "metadata": {},
   "outputs": [],
   "source": [
    "#  作成したIBM_DATABASE_DOJO テーブルを見てみます\n",
    "%sql select * from IBM_DATABASE_DOJO"
   ]
  },
  {
   "cell_type": "markdown",
   "metadata": {},
   "source": [
    "### 5. パラメータ(変数)の使用\n",
    "\n",
    "\n",
    "ステートメントにPython変数を与えるには、以下のフォーマットを使用します。 \n",
    "**:var_name**\n",
    "```\n",
    "first_name = 'JOHN'\n",
    "%sql SELECT * FROM EMPLOYEE WHERE FIRSTNME = :first_name\n",
    "```\n",
    "INのリストも対応しています\n",
    "```\n",
    "first_name = [\"JOHN\",\"SALLY\",\"ROBERT\"]\n",
    "%sql SELECT * FROM EMPLOYEE WHERE FIRSTNME IN (:first_name)\n",
    "```"
   ]
  },
  {
   "cell_type": "code",
   "execution_count": null,
   "metadata": {},
   "outputs": [],
   "source": [
    "first_name = 'JOHN'\n",
    "%sql SELECT * FROM EMPLOYEE WHERE FIRSTNME = :first_name"
   ]
  },
  {
   "cell_type": "code",
   "execution_count": null,
   "metadata": {},
   "outputs": [],
   "source": [
    "first_name = [\"JOHN\",\"SALLY\",\"ROBERT\"]\n",
    "%sql SELECT * FROM EMPLOYEE WHERE FIRSTNME IN (:first_name)"
   ]
  },
  {
   "cell_type": "markdown",
   "metadata": {},
   "source": [
    "### 6. 文字列置換\n",
    "- SQL構文の項目（列など）の値を指定するには、**{varname}**形式を使用します。\n",
    "- 文字列のそのまま置き換えになります。\n",
    "- 単一行の %sql コマンドでのみ使用できます。\n",
    "\n",
    "```\n",
    "colmns = 'EMPNO,LASTNAME'\n",
    "first_name = \"'JOHN'\"\n",
    "%sql SELECT {colmns} FROM EMPLOYEE WHERE FIRSTNME = {first_name}\n",
    "```"
   ]
  },
  {
   "cell_type": "code",
   "execution_count": null,
   "metadata": {},
   "outputs": [],
   "source": [
    "colmns = 'EMPNO,FIRSTNME, LASTNAME'\n",
    "first_name = \"'JOHN'\"\n",
    "%sql SELECT {colmns} FROM EMPLOYEE WHERE FIRSTNME = {first_name}"
   ]
  },
  {
   "cell_type": "markdown",
   "metadata": {},
   "source": [
    "変数を使用した場合、発行されたsqlをみるには,echoオプションが便利です。\n",
    "- **-e, -echo** : マクロの置換のエコー"
   ]
  },
  {
   "cell_type": "code",
   "execution_count": null,
   "metadata": {},
   "outputs": [],
   "source": [
    "colmns = 'EMPNO,FIRSTNME, LASTNAME'\n",
    "first_name = \"'JOHN'\"\n",
    "%sql -e SELECT {colmns} FROM EMPLOYEE WHERE FIRSTNME = {first_name}"
   ]
  },
  {
   "cell_type": "markdown",
   "metadata": {},
   "source": [
    "### 7. 簡易グラフ機能\n",
    "%sqlコマンドでは、簡単なチャートが作成できます:\n",
    "- -bar –棒グラフ\n",
    "- -pie –円グラフ \n",
    "- -line –折れ線グラフ"
   ]
  },
  {
   "cell_type": "code",
   "execution_count": null,
   "metadata": {},
   "outputs": [],
   "source": [
    "%sql -bar SELECT WORKDEPT, AVG(SALARY) FROM EMPLOYEE GROUP BY WORKDEPT"
   ]
  },
  {
   "cell_type": "code",
   "execution_count": null,
   "metadata": {},
   "outputs": [],
   "source": [
    "%sql -pie SELECT WORKDEPT, AVG(SALARY) FROM EMPLOYEE GROUP BY WORKDEPT"
   ]
  },
  {
   "cell_type": "code",
   "execution_count": null,
   "metadata": {},
   "outputs": [],
   "source": [
    "%sql -line SELECT WORKDEPT, AVG(SALARY) FROM EMPLOYEE GROUP BY WORKDEPT"
   ]
  },
  {
   "cell_type": "markdown",
   "metadata": {},
   "source": [
    "###  8.  Dataframeからテーブル作成機能\n",
    "(ちょっとpython pandasのcodeが必要)\n",
    "\n"
   ]
  },
  {
   "cell_type": "markdown",
   "metadata": {},
   "source": [
    "`Jupyter notebook`<br>\n",
    "Db2に入れるデータとして、\n",
    "[神奈川県警察のオープンデータ](https://www.police.pref.kanagawa.jp/mes/mesd0145.htm) に掲載されている,<br>\n",
    " [自転車盗(令和２年発生)](https://www.police.pref.kanagawa.jp/csv/kanagawa_2020zitensyatou.csv)を取得します。"
   ]
  },
  {
   "cell_type": "code",
   "execution_count": null,
   "metadata": {},
   "outputs": [],
   "source": [
    "!wget https://www.police.pref.kanagawa.jp/csv/kanagawa_2020zitensyatou.csv"
   ]
  },
  {
   "cell_type": "code",
   "execution_count": null,
   "metadata": {},
   "outputs": [],
   "source": [
    "#データの中身を確認\n",
    "!head kanagawa_2020zitensyatou.csv"
   ]
  },
  {
   "cell_type": "markdown",
   "metadata": {},
   "source": [
    "`Python pandas`<br>\n",
    "ダウンロードしたCSVファイルをpandasのDataFrameに入れます。\n",
    "その際Dateのフォーマットをpandasのdateフォーマットにします。"
   ]
  },
  {
   "cell_type": "code",
   "execution_count": null,
   "metadata": {},
   "outputs": [],
   "source": [
    "#ダウンロードしたCSVファイルをpandasのDataFrameに入れます。\n",
    "import pandas as pd\n",
    "!pip install japanize_matplotlib\n",
    "import japanize_matplotlib\n",
    "\n",
    "df_all = pd.read_csv('kanagawa_2020zitensyatou.csv', parse_dates=['発生年月日（始期）'],date_parser=lambda x: pd.to_datetime(x, format='%Y/%m/%d').date)\n",
    "df_all = df_all.replace(['60-64歳','65-69歳'],60).replace(['歳代','歳以上','歳未満',],'',regex=True)\n",
    "df_all = df_all[df_all['被害者の年齢'] != '法人・団体、被害者なし']\n",
    "df_all['被害者の年齢'] = df_all['被害者の年齢'].astype(int)\n",
    "display(df_all)"
   ]
  },
  {
   "cell_type": "markdown",
   "metadata": {},
   "source": [
    "### Dataframeからテーブル作成\n",
    "\n",
    "USING句を使って、PandasのDataframeからDb2のテーブルを作成します。\n",
    " \n",
    "**sql USING dataframe [CREATE | APPEND | REPLACE] TABLE table\u000b",
    " [WITH DATA | COLUMNS ASIS | KEEP [INT64 |FLOAT64] |LIMIT x]**<br>\n",
    "\n",
    "- **dataframe** -値を格納するdataframeの名前。\n",
    "- **CREATE** -テーブルの作成 - テーブルが存在する場合は失敗。\n",
    "- **REPLACE** -テーブルが存在しない場合は作成し、存在する場合は置換。\n",
    "- **APPEND** -既存のテーブルにデータを追加。テーブルは作成しない。\n",
    "- **table** -テーブル名\n",
    "- **WITH DATA** - dataframeのデータをDb2テーブルにコピーする\n",
    "- **COLUMNS ASIS** - Db2フレンドリーな名前ではなく、 dataframeのカラム名を使用する(訳注: Db2フレンドリーな名前は次ページ参照)\n",
    "- **KEEP INT64, KEEP FLOAT64** - Db2 のフレンドリーな型の代わりに、データフレームから INT64 および FLOAT64 フォーマットを使用する。\n",
    "- **LIMIT x** -テーブルにコピーする行数を \"x \"に制限する\n"
   ]
  },
  {
   "cell_type": "code",
   "execution_count": null,
   "metadata": {},
   "outputs": [],
   "source": [
    "#念のためテーブルは削除してから,なければエラーが出るが無視\n",
    "%sql drop table STOLEN_BICYCLE \n",
    "\n",
    "# Dataframeからテーブル作成\n",
    "%sql using df_all create table STOLEN_BICYCLE with data"
   ]
  },
  {
   "cell_type": "code",
   "execution_count": null,
   "metadata": {},
   "outputs": [],
   "source": [
    "df_select_reslut = %sql -all select * from STOLEN_BICYCLE\n",
    "df_select_reslut"
   ]
  },
  {
   "cell_type": "code",
   "execution_count": null,
   "metadata": {},
   "outputs": [],
   "source": [
     "%sql -bar SELECT \"施錠関係\", \"被害者の年齢\",count(*) as \"罪名\"from STOLEN_BICYCLE GROUP BY rollup(\"施錠関係\",\"被害者の年齢\")\n"
   ]
  },
  {
   "cell_type": "markdown",
   "metadata": {},
   "source": [
    "### 9. SELECTした結果をWatsonStudioのプロジェクトのデータ資産に保存\n",
    "(ちょっとpython pandasとwatson studio用のcodeが必要)\n",
    "#### **`IBM Cloud Watson Studioのみ`**"
   ]
  },
  {
   "cell_type": "code",
   "execution_count": null,
   "metadata": {},
   "outputs": [],
   "source": [
    "# 保存\n",
    "project.save_data(\"kanagawa_2020zitensyatou.csv\",df_select_reslut.to_csv(index=False),overwrite=True)"
   ]
  },
  {
   "cell_type": "markdown",
   "metadata": {},
   "source": [
    "#### **`IBM Cloud Watson Studio以外`**\n",
    "\n",
    "中身の確認はプロジェクトのデータ資産から！"
   ]
  },
  {
   "cell_type": "code",
   "execution_count": null,
   "metadata": {},
   "outputs": [],
   "source": [
    "# ローカルに保存 (PCなどでJupyter Notebookを動かしている場合)\n",
    "df_select_reslut.to_csv(\"kanagawa_2020zitensyatou.csv\", index=False)\n",
    "# 中身の確認\n",
    "!head newly_confirmed_cases_daily.csv"
   ]
  },
  {
   "cell_type": "markdown",
   "metadata": {},
   "source": [
    "### 10. 後片付け\n",
    "#### 作成したテーブルのDROP"
   ]
  },
  {
   "cell_type": "code",
   "execution_count": null,
   "metadata": {},
   "outputs": [],
   "source": [
    "%%sql \n",
    "drop table EMPLOYEE;\n",
    "drop table DEPARTMENT;\n",
    "drop table IBM_DATABASE_DOJO;\n",
    "drop table STOLEN_BICYCLE;"
   ]
  },
  {
   "cell_type": "code",
   "execution_count": null,
   "metadata": {},
   "outputs": [],
   "source": [
    "#　確認\n",
    "%sql list tables"
   ]
  },
  {
   "cell_type": "markdown",
   "metadata": {},
   "source": [
    "#### DB接続の切断"
   ]
  },
  {
   "cell_type": "code",
   "execution_count": null,
   "metadata": {},
   "outputs": [],
   "source": [
    "# DB接続の切断\n",
    "%sql connect close"
    ]
  },
  {
   "cell_type": "markdown",
   "metadata": {},
   "source": [
    "# お疲れ様でした！　以上です。\n",
    "\n",
    "もっといろいろなコマンドの使い方は<br>\n",
    "こちらを参照：https://speakerdeck.com/kyokonishito/db2-and-jupyter-notebooks\n",
    "\n",
    "または本家Github repositoryを参照してください(英語)<br>\n",
    "最新の情報もこちらになります。\n",
    "https://github.com/IBM/db2-jupyter"
   ]
  }
 ],
 "metadata": {
  "kernelspec": {
   "display_name": "Python 3.9",
   "language": "python",
   "name": "python3"
  },
  "language_info": {
   "codemirror_mode": {
    "name": "ipython",
    "version": 3
   },
   "file_extension": ".py",
   "mimetype": "text/x-python",
   "name": "python",
   "nbconvert_exporter": "python",
   "pygments_lexer": "ipython3",
   "version": "3.9.7"
  }
 },
 "nbformat": 4,
 "nbformat_minor": 1
}
